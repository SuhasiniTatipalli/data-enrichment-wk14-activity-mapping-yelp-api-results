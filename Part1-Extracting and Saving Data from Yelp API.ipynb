{
 "cells": [
  {
   "cell_type": "markdown",
   "metadata": {
    "id": "8guYh-VR7nlX"
   },
   "source": [
    "# Part 1 - Extracting and Saving Data from Yelp API"
   ]
  },
  {
   "cell_type": "markdown",
   "metadata": {},
   "source": [
    "## Obective"
   ]
  },
  {
   "cell_type": "markdown",
   "metadata": {
    "id": "8guYh-VR7nlX"
   },
   "source": [
    "- For this CodeAlong, we will be working with the Yelp API. \n",
    "- You will use the the Yelp API to search your home town for a cuisine type of your choice.\n",
    "- Next class, we will then use Plotly Express to create a map with the Mapbox API to visualize the results.\n",
    "    \n",
    "    "
   ]
  },
  {
   "cell_type": "markdown",
   "metadata": {
    "id": "8guYh-VR7nlX"
   },
   "source": [
    "## Tools You Will Use\n",
    "- Part 1:\n",
    "    - Yelp API:\n",
    "        - Getting Started: \n",
    "            - https://www.yelp.com/developers/documentation/v3/get_started\n",
    "\n",
    "    - `YelpAPI` python package\n",
    "        -  \"YelpAPI\": https://github.com/gfairchild/yelpapi\n",
    "- Part 2:\n",
    "\n",
    "    - Plotly Express: https://plotly.com/python/getting-started/\n",
    "        - With Mapbox API: https://www.mapbox.com/\n",
    "        - `px.scatter_mapbox` [Documentation](https://plotly.com/python/scattermapbox/): \n",
    "\n",
    "\n"
   ]
  },
  {
   "cell_type": "markdown",
   "metadata": {},
   "source": [
    "### Applying Code From\n",
    "- Efficient API Calls Lesson Link: https://login.codingdojo.com/m/376/12529/88078"
   ]
  },
  {
   "cell_type": "code",
   "execution_count": 1,
   "metadata": {},
   "outputs": [],
   "source": [
    "# Standard Imports\n",
    "import numpy as np\n",
    "import pandas as pd\n",
    "import matplotlib.pyplot as plt\n",
    "import seaborn as sns\n",
    "\n",
    "# Additional Imports\n",
    "import os, json, math, time\n",
    "from yelpapi import YelpAPI\n",
    "from tqdm.notebook import tqdm_notebook"
   ]
  },
  {
   "cell_type": "markdown",
   "metadata": {
    "id": "1l3Z-79nBSX9"
   },
   "source": [
    "## 1. Registering for Required APIs"
   ]
  },
  {
   "cell_type": "markdown",
   "metadata": {
    "id": "1l3Z-79nBSX9"
   },
   "source": [
    "\n",
    "- Yelp: https://www.yelp.com/developers/documentation/v3/get_started\n"
   ]
  },
  {
   "cell_type": "markdown",
   "metadata": {},
   "source": [
    "> Check the official API documentation to know what arguments we can search for: https://www.yelp.com/developers/documentation/v3/business_search"
   ]
  },
  {
   "cell_type": "markdown",
   "metadata": {},
   "source": [
    "### Load Credentials and Create Yelp API Object"
   ]
  },
  {
   "cell_type": "code",
   "execution_count": 2,
   "metadata": {
    "ExecuteTime": {
     "end_time": "2022-03-25T18:20:46.629934Z",
     "start_time": "2022-03-25T18:20:45.915864Z"
    },
    "colab": {
     "base_uri": "https://localhost:8080/"
    },
    "id": "xJYqVvNkE36a",
    "outputId": "67798160-dea2-41fc-9040-2b3833efa560"
   },
   "outputs": [],
   "source": [
    "# Load API Credentials\n",
    "with open('C:/Users/statipalli/.secret/yelp_api.json') as f:\n",
    "    login = json.load(f)\n",
    "   \n",
    "    \n"
   ]
  },
  {
   "cell_type": "code",
   "execution_count": 3,
   "metadata": {},
   "outputs": [
    {
     "data": {
      "text/plain": [
       "dict_keys(['Client-ID', 'API Key'])"
      ]
     },
     "execution_count": 3,
     "metadata": {},
     "output_type": "execute_result"
    }
   ],
   "source": [
    " login.keys()"
   ]
  },
  {
   "cell_type": "code",
   "execution_count": 4,
   "metadata": {},
   "outputs": [
    {
     "data": {
      "text/plain": [
       "<yelpapi.yelpapi.YelpAPI at 0x137b1af7700>"
      ]
     },
     "execution_count": 4,
     "metadata": {},
     "output_type": "execute_result"
    }
   ],
   "source": [
    "# Instantiate YelpAPI Variable\n",
    "yelp_api = YelpAPI(login['API Key'], timeout_s=5.0)\n",
    "yelp_api"
   ]
  },
  {
   "cell_type": "code",
   "execution_count": 5,
   "metadata": {},
   "outputs": [
    {
     "name": "stdout",
     "output_type": "stream",
     "text": [
      "<class 'dict'>\n"
     ]
    },
    {
     "data": {
      "text/plain": [
       "dict_keys(['businesses', 'total', 'region'])"
      ]
     },
     "execution_count": 5,
     "metadata": {},
     "output_type": "execute_result"
    }
   ],
   "source": [
    "# Quick Test Query\n",
    "results = yelp_api.search_query(location='Baltimore, MD',\n",
    "                                       term='Crab Cake')\n",
    "print(type(results))\n",
    "results.keys()"
   ]
  },
  {
   "cell_type": "markdown",
   "metadata": {},
   "source": [
    "### Define Search Terms and File Paths"
   ]
  },
  {
   "cell_type": "code",
   "execution_count": 6,
   "metadata": {},
   "outputs": [],
   "source": [
    "# set our API call parameters and filename before the first call\n",
    "location = 'Seattle, WA 98122'\n",
    "term = 'Pizza'"
   ]
  },
  {
   "cell_type": "code",
   "execution_count": 7,
   "metadata": {},
   "outputs": [],
   "source": [
    "## Specify fodler for saving data\n",
    "FOLDER = 'Data/'\n",
    "os.makedirs(FOLDER,exist_ok=True)"
   ]
  },
  {
   "cell_type": "code",
   "execution_count": 8,
   "metadata": {},
   "outputs": [],
   "source": [
    "# Specifying JSON_FILE filename (can include a folder)\n",
    "JSON_FILE = FOLDER+f\"{location.split(',')[0]}-{term}.json\""
   ]
  },
  {
   "cell_type": "code",
   "execution_count": 9,
   "metadata": {},
   "outputs": [
    {
     "data": {
      "text/plain": [
       "'Data/Seattle-Pizza.json'"
      ]
     },
     "execution_count": 9,
     "metadata": {},
     "output_type": "execute_result"
    }
   ],
   "source": [
    "JSON_FILE"
   ]
  },
  {
   "cell_type": "markdown",
   "metadata": {},
   "source": [
    "### Check if Json File exists and Create it if it doesn't"
   ]
  },
  {
   "cell_type": "code",
   "execution_count": 10,
   "metadata": {},
   "outputs": [
    {
     "name": "stdout",
     "output_type": "stream",
     "text": [
      "[i] Data/Seattle-Pizza.json already exists.\n"
     ]
    }
   ],
   "source": [
    "## Check if JSON_FILE exists\n",
    "file_exists = os.path.isfile(JSON_FILE)\n",
    "## If it does not exist: \n",
    "if file_exists == False:\n",
    "    ## CREATE ANY NEEDED FOLDERS\n",
    "    # Get the Folder Name only\n",
    "    folder = os.path.dirname(JSON_FILE)\n",
    "    \n",
    "    ## If JSON_FILE included a folder:\n",
    "    if len(folder)>0:\n",
    "        # create the folder\n",
    "\n",
    "        os.makedirs(folder,exist_ok=True)\n",
    "        \n",
    "    ## INFORM USER AND SAVE EMPTY LIST\n",
    "\n",
    "    print(f\"[i] {JSON_FILE} not found. Saving empty list to file.\")\n",
    "    \n",
    "    ## save the first page of results\n",
    "    with open(JSON_FILE, 'w') as f:\n",
    "        json.dump([],f)\n",
    "## If it exists, inform user\n",
    "else:\n",
    "    print(f\"[i] {JSON_FILE} already exists.\")"
   ]
  },
  {
   "cell_type": "markdown",
   "metadata": {},
   "source": [
    "### Load JSON FIle and account for previous results"
   ]
  },
  {
   "cell_type": "code",
   "execution_count": 11,
   "metadata": {},
   "outputs": [],
   "source": [
    "## Load previous results and use len of results for offset\n",
    "\n",
    "## set offset based on previous results\n"
   ]
  },
  {
   "cell_type": "markdown",
   "metadata": {},
   "source": [
    "### Make the first API call to get the first page of data"
   ]
  },
  {
   "cell_type": "markdown",
   "metadata": {},
   "source": [
    "- We will use this first result to check:\n",
    "    - how many total results there are?\n",
    "    - Where is the actual data we want to save?\n",
    "    - how many results do we get at a time?\n"
   ]
  },
  {
   "cell_type": "code",
   "execution_count": 12,
   "metadata": {},
   "outputs": [],
   "source": [
    "# use our yelp_api variable's search_query method to perform our API call\n",
    "results = yelp_api.search_query(term = term,location = location)"
   ]
  },
  {
   "cell_type": "code",
   "execution_count": 13,
   "metadata": {
    "ExecuteTime": {
     "end_time": "2022-03-24T20:01:48.867510Z",
     "start_time": "2022-03-24T20:01:48.854746Z"
    },
    "colab": {
     "base_uri": "https://localhost:8080/"
    },
    "id": "Myur3i1KGhPf",
    "outputId": "f447c6f9-596b-41d0-ccda-50af0ce82108"
   },
   "outputs": [
    {
     "data": {
      "text/plain": [
       "dict"
      ]
     },
     "execution_count": 13,
     "metadata": {},
     "output_type": "execute_result"
    }
   ],
   "source": [
    "## How many results total?\n",
    "type(results)"
   ]
  },
  {
   "cell_type": "code",
   "execution_count": 14,
   "metadata": {},
   "outputs": [
    {
     "data": {
      "text/plain": [
       "dict_keys(['businesses', 'total', 'region'])"
      ]
     },
     "execution_count": 14,
     "metadata": {},
     "output_type": "execute_result"
    }
   ],
   "source": [
    "results.keys()"
   ]
  },
  {
   "cell_type": "code",
   "execution_count": 15,
   "metadata": {},
   "outputs": [
    {
     "data": {
      "text/plain": [
       "{'id': 'FVbwpNA1uZEGiM02N4XtUg',\n",
       " 'alias': 'blotto-seattle',\n",
       " 'name': 'Blotto',\n",
       " 'image_url': 'https://s3-media1.fl.yelpcdn.com/bphoto/O9QKPWc8zFl6gULMKw7Qxw/o.jpg',\n",
       " 'is_closed': False,\n",
       " 'url': 'https://www.yelp.com/biz/blotto-seattle?adjust_creative=AM3V_MJy6xGqExB6YzQBmg&utm_campaign=yelp_api_v3&utm_medium=api_v3_business_search&utm_source=AM3V_MJy6xGqExB6YzQBmg',\n",
       " 'review_count': 36,\n",
       " 'categories': [{'alias': 'pizza', 'title': 'Pizza'}],\n",
       " 'rating': 4.5,\n",
       " 'coordinates': {'latitude': 47.61849, 'longitude': -122.31664},\n",
       " 'transactions': [],\n",
       " 'location': {'address1': '1830 12th Ave',\n",
       "  'address2': '',\n",
       "  'address3': None,\n",
       "  'city': 'Seattle',\n",
       "  'zip_code': '98122',\n",
       "  'country': 'US',\n",
       "  'state': 'WA',\n",
       "  'display_address': ['1830 12th Ave', 'Seattle, WA 98122']},\n",
       " 'phone': '+12064031809',\n",
       " 'display_phone': '(206) 403-1809',\n",
       " 'distance': 1686.8621759079958}"
      ]
     },
     "execution_count": 15,
     "metadata": {},
     "output_type": "execute_result"
    }
   ],
   "source": [
    "results['businesses'][0]"
   ]
  },
  {
   "cell_type": "code",
   "execution_count": 16,
   "metadata": {},
   "outputs": [
    {
     "data": {
      "text/html": [
       "<div>\n",
       "<style scoped>\n",
       "    .dataframe tbody tr th:only-of-type {\n",
       "        vertical-align: middle;\n",
       "    }\n",
       "\n",
       "    .dataframe tbody tr th {\n",
       "        vertical-align: top;\n",
       "    }\n",
       "\n",
       "    .dataframe thead th {\n",
       "        text-align: right;\n",
       "    }\n",
       "</style>\n",
       "<table border=\"1\" class=\"dataframe\">\n",
       "  <thead>\n",
       "    <tr style=\"text-align: right;\">\n",
       "      <th></th>\n",
       "      <th>id</th>\n",
       "      <th>alias</th>\n",
       "      <th>name</th>\n",
       "      <th>image_url</th>\n",
       "      <th>is_closed</th>\n",
       "      <th>url</th>\n",
       "      <th>review_count</th>\n",
       "      <th>categories</th>\n",
       "      <th>rating</th>\n",
       "      <th>coordinates</th>\n",
       "      <th>transactions</th>\n",
       "      <th>location</th>\n",
       "      <th>phone</th>\n",
       "      <th>display_phone</th>\n",
       "      <th>distance</th>\n",
       "      <th>price</th>\n",
       "    </tr>\n",
       "  </thead>\n",
       "  <tbody>\n",
       "    <tr>\n",
       "      <th>0</th>\n",
       "      <td>FVbwpNA1uZEGiM02N4XtUg</td>\n",
       "      <td>blotto-seattle</td>\n",
       "      <td>Blotto</td>\n",
       "      <td>https://s3-media1.fl.yelpcdn.com/bphoto/O9QKPW...</td>\n",
       "      <td>False</td>\n",
       "      <td>https://www.yelp.com/biz/blotto-seattle?adjust...</td>\n",
       "      <td>36</td>\n",
       "      <td>[{'alias': 'pizza', 'title': 'Pizza'}]</td>\n",
       "      <td>4.5</td>\n",
       "      <td>{'latitude': 47.61849, 'longitude': -122.31664}</td>\n",
       "      <td>[]</td>\n",
       "      <td>{'address1': '1830 12th Ave', 'address2': '', ...</td>\n",
       "      <td>+12064031809</td>\n",
       "      <td>(206) 403-1809</td>\n",
       "      <td>1686.862176</td>\n",
       "      <td>NaN</td>\n",
       "    </tr>\n",
       "    <tr>\n",
       "      <th>1</th>\n",
       "      <td>EwrAoy7XbX8nfemZdDvupA</td>\n",
       "      <td>cornelly-seattle</td>\n",
       "      <td>Cornelly</td>\n",
       "      <td>https://s3-media4.fl.yelpcdn.com/bphoto/HlYYBT...</td>\n",
       "      <td>False</td>\n",
       "      <td>https://www.yelp.com/biz/cornelly-seattle?adju...</td>\n",
       "      <td>96</td>\n",
       "      <td>[{'alias': 'pizza', 'title': 'Pizza'}, {'alias...</td>\n",
       "      <td>4.5</td>\n",
       "      <td>{'latitude': 47.624577, 'longitude': -122.325577}</td>\n",
       "      <td>[pickup, delivery]</td>\n",
       "      <td>{'address1': '601 Summit Ave E', 'address2': '...</td>\n",
       "      <td></td>\n",
       "      <td></td>\n",
       "      <td>2578.701393</td>\n",
       "      <td>NaN</td>\n",
       "    </tr>\n",
       "    <tr>\n",
       "      <th>2</th>\n",
       "      <td>IrohtoYjnAR_vc6w6CRCxA</td>\n",
       "      <td>moto-seattle</td>\n",
       "      <td>Moto</td>\n",
       "      <td>https://s3-media2.fl.yelpcdn.com/bphoto/FBmvjy...</td>\n",
       "      <td>False</td>\n",
       "      <td>https://www.yelp.com/biz/moto-seattle?adjust_c...</td>\n",
       "      <td>127</td>\n",
       "      <td>[{'alias': 'pizza', 'title': 'Pizza'}, {'alias...</td>\n",
       "      <td>5.0</td>\n",
       "      <td>{'latitude': 47.56207, 'longitude': -122.38509}</td>\n",
       "      <td>[delivery]</td>\n",
       "      <td>{'address1': '4526 42nd Ave SW', 'address2': '...</td>\n",
       "      <td>+12064208880</td>\n",
       "      <td>(206) 420-8880</td>\n",
       "      <td>8784.075722</td>\n",
       "      <td>$$</td>\n",
       "    </tr>\n",
       "    <tr>\n",
       "      <th>3</th>\n",
       "      <td>Wi6LFkjIausYj277ru6pqg</td>\n",
       "      <td>humble-pie-seattle</td>\n",
       "      <td>Humble Pie</td>\n",
       "      <td>https://s3-media3.fl.yelpcdn.com/bphoto/1EGE3Z...</td>\n",
       "      <td>False</td>\n",
       "      <td>https://www.yelp.com/biz/humble-pie-seattle?ad...</td>\n",
       "      <td>356</td>\n",
       "      <td>[{'alias': 'pizza', 'title': 'Pizza'}]</td>\n",
       "      <td>4.0</td>\n",
       "      <td>{'latitude': 47.5976491915013, 'longitude': -1...</td>\n",
       "      <td>[delivery]</td>\n",
       "      <td>{'address1': '525 Rainier Ave S', 'address2': ...</td>\n",
       "      <td>+12063295133</td>\n",
       "      <td>(206) 329-5133</td>\n",
       "      <td>2166.834011</td>\n",
       "      <td>$$</td>\n",
       "    </tr>\n",
       "    <tr>\n",
       "      <th>4</th>\n",
       "      <td>M9xzvwgK58T0w7wvXedvuQ</td>\n",
       "      <td>hot-mamas-pizza-seattle</td>\n",
       "      <td>Hot Mama's Pizza</td>\n",
       "      <td>https://s3-media4.fl.yelpcdn.com/bphoto/LEL1qj...</td>\n",
       "      <td>False</td>\n",
       "      <td>https://www.yelp.com/biz/hot-mamas-pizza-seatt...</td>\n",
       "      <td>950</td>\n",
       "      <td>[{'alias': 'pizza', 'title': 'Pizza'}]</td>\n",
       "      <td>4.0</td>\n",
       "      <td>{'latitude': 47.615379179632, 'longitude': -12...</td>\n",
       "      <td>[delivery]</td>\n",
       "      <td>{'address1': '700 E Pine St', 'address2': '', ...</td>\n",
       "      <td>+12063226444</td>\n",
       "      <td>(206) 322-6444</td>\n",
       "      <td>2080.359405</td>\n",
       "      <td>$</td>\n",
       "    </tr>\n",
       "    <tr>\n",
       "      <th>5</th>\n",
       "      <td>et4eWK49x5od4lfqCukG6w</td>\n",
       "      <td>central-pizza-seattle</td>\n",
       "      <td>Central Pizza</td>\n",
       "      <td>https://s3-media4.fl.yelpcdn.com/bphoto/AxKjCa...</td>\n",
       "      <td>False</td>\n",
       "      <td>https://www.yelp.com/biz/central-pizza-seattle...</td>\n",
       "      <td>201</td>\n",
       "      <td>[{'alias': 'bars', 'title': 'Bars'}, {'alias':...</td>\n",
       "      <td>4.0</td>\n",
       "      <td>{'latitude': 47.598976, 'longitude': -122.294685}</td>\n",
       "      <td>[pickup, delivery]</td>\n",
       "      <td>{'address1': '2901 S Jackson St', 'address2': ...</td>\n",
       "      <td>+12066026333</td>\n",
       "      <td>(206) 602-6333</td>\n",
       "      <td>1571.867438</td>\n",
       "      <td>$$</td>\n",
       "    </tr>\n",
       "    <tr>\n",
       "      <th>6</th>\n",
       "      <td>fxyHWmfzcdjImgQ_UYHoTw</td>\n",
       "      <td>bar-cotto-seattle</td>\n",
       "      <td>Bar Cotto</td>\n",
       "      <td>https://s3-media3.fl.yelpcdn.com/bphoto/07DoPF...</td>\n",
       "      <td>False</td>\n",
       "      <td>https://www.yelp.com/biz/bar-cotto-seattle?adj...</td>\n",
       "      <td>336</td>\n",
       "      <td>[{'alias': 'bars', 'title': 'Bars'}, {'alias':...</td>\n",
       "      <td>4.5</td>\n",
       "      <td>{'latitude': 47.6146934, 'longitude': -122.312...</td>\n",
       "      <td>[pickup, delivery]</td>\n",
       "      <td>{'address1': '1546 15th Ave', 'address2': '', ...</td>\n",
       "      <td>+12068388081</td>\n",
       "      <td>(206) 838-8081</td>\n",
       "      <td>1292.526796</td>\n",
       "      <td>$$</td>\n",
       "    </tr>\n",
       "    <tr>\n",
       "      <th>7</th>\n",
       "      <td>t-Z9bvmlgUyDtomGmttrUQ</td>\n",
       "      <td>guerilla-pizza-kitchen-seattle</td>\n",
       "      <td>Guerilla Pizza Kitchen</td>\n",
       "      <td>https://s3-media4.fl.yelpcdn.com/bphoto/uMrdEj...</td>\n",
       "      <td>False</td>\n",
       "      <td>https://www.yelp.com/biz/guerilla-pizza-kitche...</td>\n",
       "      <td>1</td>\n",
       "      <td>[{'alias': 'pizza', 'title': 'Pizza'}, {'alias...</td>\n",
       "      <td>5.0</td>\n",
       "      <td>{'latitude': 47.608127, 'longitude': -122.302435}</td>\n",
       "      <td>[]</td>\n",
       "      <td>{'address1': '2300 E Cherry St', 'address2': '...</td>\n",
       "      <td></td>\n",
       "      <td></td>\n",
       "      <td>749.173113</td>\n",
       "      <td>NaN</td>\n",
       "    </tr>\n",
       "    <tr>\n",
       "      <th>8</th>\n",
       "      <td>ugTsEtjvwRhteac_6JcuPw</td>\n",
       "      <td>italian-family-pizza-seattle</td>\n",
       "      <td>Italian Family Pizza</td>\n",
       "      <td>https://s3-media2.fl.yelpcdn.com/bphoto/SgiSrJ...</td>\n",
       "      <td>False</td>\n",
       "      <td>https://www.yelp.com/biz/italian-family-pizza-...</td>\n",
       "      <td>995</td>\n",
       "      <td>[{'alias': 'pizza', 'title': 'Pizza'}, {'alias...</td>\n",
       "      <td>4.0</td>\n",
       "      <td>{'latitude': 47.60937, 'longitude': -122.32546}</td>\n",
       "      <td>[pickup, delivery]</td>\n",
       "      <td>{'address1': '1028 Madison St', 'address2': No...</td>\n",
       "      <td>+12065380040</td>\n",
       "      <td>(206) 538-0040</td>\n",
       "      <td>2271.307105</td>\n",
       "      <td>$$</td>\n",
       "    </tr>\n",
       "    <tr>\n",
       "      <th>9</th>\n",
       "      <td>-FOAQv22SXtSBs7nptI3UA</td>\n",
       "      <td>serious-pie-downtown-seattle-2</td>\n",
       "      <td>Serious Pie Downtown</td>\n",
       "      <td>https://s3-media1.fl.yelpcdn.com/bphoto/IhsjHU...</td>\n",
       "      <td>False</td>\n",
       "      <td>https://www.yelp.com/biz/serious-pie-downtown-...</td>\n",
       "      <td>4456</td>\n",
       "      <td>[{'alias': 'pizza', 'title': 'Pizza'}, {'alias...</td>\n",
       "      <td>4.0</td>\n",
       "      <td>{'latitude': 47.61304626911818, 'longitude': -...</td>\n",
       "      <td>[pickup, delivery]</td>\n",
       "      <td>{'address1': '2001 4th Ave', 'address2': None,...</td>\n",
       "      <td>+12068387388</td>\n",
       "      <td>(206) 838-7388</td>\n",
       "      <td>3348.309276</td>\n",
       "      <td>$$</td>\n",
       "    </tr>\n",
       "    <tr>\n",
       "      <th>10</th>\n",
       "      <td>wi-mbKEz4Ha1YYaOB8zHnw</td>\n",
       "      <td>kōbo-pizza-seattle</td>\n",
       "      <td>Kōbo Pizza</td>\n",
       "      <td>https://s3-media4.fl.yelpcdn.com/bphoto/ga_qIb...</td>\n",
       "      <td>False</td>\n",
       "      <td>https://www.yelp.com/biz/k%C5%8Dbo-pizza-seatt...</td>\n",
       "      <td>21</td>\n",
       "      <td>[{'alias': 'pizza', 'title': 'Pizza'}]</td>\n",
       "      <td>4.0</td>\n",
       "      <td>{'latitude': 47.6144, 'longitude': -122.32271}</td>\n",
       "      <td>[]</td>\n",
       "      <td>{'address1': '714 E Pike St', 'address2': None...</td>\n",
       "      <td>+12536930207</td>\n",
       "      <td>(253) 693-0207</td>\n",
       "      <td>2025.139396</td>\n",
       "      <td>NaN</td>\n",
       "    </tr>\n",
       "    <tr>\n",
       "      <th>11</th>\n",
       "      <td>kVqwgAjEPffEyMJSzpfM_A</td>\n",
       "      <td>pagliacci-pizza-seattle-26</td>\n",
       "      <td>Pagliacci Pizza</td>\n",
       "      <td>https://s3-media2.fl.yelpcdn.com/bphoto/MTBcAn...</td>\n",
       "      <td>False</td>\n",
       "      <td>https://www.yelp.com/biz/pagliacci-pizza-seatt...</td>\n",
       "      <td>96</td>\n",
       "      <td>[{'alias': 'pizza', 'title': 'Pizza'}]</td>\n",
       "      <td>3.5</td>\n",
       "      <td>{'latitude': 47.6254949, 'longitude': -122.292...</td>\n",
       "      <td>[delivery]</td>\n",
       "      <td>{'address1': '3015 E Madison St', 'address2': ...</td>\n",
       "      <td>+12067261717</td>\n",
       "      <td>(206) 726-1717</td>\n",
       "      <td>1395.266332</td>\n",
       "      <td>$$</td>\n",
       "    </tr>\n",
       "    <tr>\n",
       "      <th>12</th>\n",
       "      <td>n6BLr6spgjVWqzUwmVx0bg</td>\n",
       "      <td>johnny-mos-pizzeria-seattle</td>\n",
       "      <td>Johnny Mo's Pizzeria</td>\n",
       "      <td>https://s3-media4.fl.yelpcdn.com/bphoto/8IAnDP...</td>\n",
       "      <td>False</td>\n",
       "      <td>https://www.yelp.com/biz/johnny-mos-pizzeria-s...</td>\n",
       "      <td>133</td>\n",
       "      <td>[{'alias': 'pizza', 'title': 'Pizza'}]</td>\n",
       "      <td>4.5</td>\n",
       "      <td>{'latitude': 47.65142, 'longitude': -122.32083}</td>\n",
       "      <td>[pickup, delivery]</td>\n",
       "      <td>{'address1': '3272 Fuhrman Ave E', 'address2':...</td>\n",
       "      <td>+12068226272</td>\n",
       "      <td>(206) 822-6272</td>\n",
       "      <td>4658.301257</td>\n",
       "      <td>$$</td>\n",
       "    </tr>\n",
       "    <tr>\n",
       "      <th>13</th>\n",
       "      <td>cAFXng3Gr1cBCFkP1VIxng</td>\n",
       "      <td>the-independent-pizzeria-seattle-2</td>\n",
       "      <td>The Independent Pizzeria</td>\n",
       "      <td>https://s3-media4.fl.yelpcdn.com/bphoto/4gIuis...</td>\n",
       "      <td>False</td>\n",
       "      <td>https://www.yelp.com/biz/the-independent-pizze...</td>\n",
       "      <td>181</td>\n",
       "      <td>[{'alias': 'pizza', 'title': 'Pizza'}, {'alias...</td>\n",
       "      <td>4.0</td>\n",
       "      <td>{'latitude': 47.636044, 'longitude': -122.277377}</td>\n",
       "      <td>[delivery]</td>\n",
       "      <td>{'address1': '4235 E Madison St', 'address2': ...</td>\n",
       "      <td>+12068606110</td>\n",
       "      <td>(206) 860-6110</td>\n",
       "      <td>2897.252844</td>\n",
       "      <td>$$</td>\n",
       "    </tr>\n",
       "    <tr>\n",
       "      <th>14</th>\n",
       "      <td>GJdmwqqkC0nAQfX1qZM3ew</td>\n",
       "      <td>olympia-pizza-and-spaghetti-house-iii-seattle</td>\n",
       "      <td>Olympia Pizza and Spaghetti House III</td>\n",
       "      <td>https://s3-media2.fl.yelpcdn.com/bphoto/TLxXE5...</td>\n",
       "      <td>False</td>\n",
       "      <td>https://www.yelp.com/biz/olympia-pizza-and-spa...</td>\n",
       "      <td>291</td>\n",
       "      <td>[{'alias': 'pizza', 'title': 'Pizza'}, {'alias...</td>\n",
       "      <td>4.0</td>\n",
       "      <td>{'latitude': 47.62383, 'longitude': -122.312445}</td>\n",
       "      <td>[delivery]</td>\n",
       "      <td>{'address1': '516 15th Ave E', 'address2': '',...</td>\n",
       "      <td>+12063294500</td>\n",
       "      <td>(206) 329-4500</td>\n",
       "      <td>1732.874383</td>\n",
       "      <td>$$</td>\n",
       "    </tr>\n",
       "    <tr>\n",
       "      <th>15</th>\n",
       "      <td>slbmD92j1JKShUa0InF2nw</td>\n",
       "      <td>southpaw-seattle</td>\n",
       "      <td>Southpaw</td>\n",
       "      <td>https://s3-media1.fl.yelpcdn.com/bphoto/3Wxx2r...</td>\n",
       "      <td>False</td>\n",
       "      <td>https://www.yelp.com/biz/southpaw-seattle?adju...</td>\n",
       "      <td>77</td>\n",
       "      <td>[{'alias': 'pizza', 'title': 'Pizza'}, {'alias...</td>\n",
       "      <td>4.0</td>\n",
       "      <td>{'latitude': 47.61118, 'longitude': -122.31654}</td>\n",
       "      <td>[pickup, delivery]</td>\n",
       "      <td>{'address1': '926 12th Ave', 'address2': '', '...</td>\n",
       "      <td>+12063235278</td>\n",
       "      <td>(206) 323-5278</td>\n",
       "      <td>1576.874272</td>\n",
       "      <td>$$</td>\n",
       "    </tr>\n",
       "    <tr>\n",
       "      <th>16</th>\n",
       "      <td>Ss_66zV-zhK_57_6MgV93w</td>\n",
       "      <td>aglio-e-olio-seattle</td>\n",
       "      <td>Aglio e Olio</td>\n",
       "      <td>https://s3-media2.fl.yelpcdn.com/bphoto/inrSl1...</td>\n",
       "      <td>False</td>\n",
       "      <td>https://www.yelp.com/biz/aglio-e-olio-seattle?...</td>\n",
       "      <td>271</td>\n",
       "      <td>[{'alias': 'italian', 'title': 'Italian'}, {'a...</td>\n",
       "      <td>4.5</td>\n",
       "      <td>{'latitude': 47.62328027309258, 'longitude': -...</td>\n",
       "      <td>[delivery]</td>\n",
       "      <td>{'address1': '2743 E Madison St', 'address2': ...</td>\n",
       "      <td></td>\n",
       "      <td></td>\n",
       "      <td>1132.743207</td>\n",
       "      <td>$$</td>\n",
       "    </tr>\n",
       "    <tr>\n",
       "      <th>17</th>\n",
       "      <td>bkA3jfO2ej3pjAUMZWihGg</td>\n",
       "      <td>pagliacci-pizza-seattle-32</td>\n",
       "      <td>Pagliacci Pizza</td>\n",
       "      <td>https://s3-media4.fl.yelpcdn.com/bphoto/dZFH37...</td>\n",
       "      <td>False</td>\n",
       "      <td>https://www.yelp.com/biz/pagliacci-pizza-seatt...</td>\n",
       "      <td>36</td>\n",
       "      <td>[{'alias': 'pizza', 'title': 'Pizza'}]</td>\n",
       "      <td>4.0</td>\n",
       "      <td>{'latitude': 47.613922, 'longitude': -122.326006}</td>\n",
       "      <td>[]</td>\n",
       "      <td>{'address1': '415 E Pike St', 'address2': '', ...</td>\n",
       "      <td>+12067261717</td>\n",
       "      <td>(206) 726-1717</td>\n",
       "      <td>2274.720678</td>\n",
       "      <td>NaN</td>\n",
       "    </tr>\n",
       "    <tr>\n",
       "      <th>18</th>\n",
       "      <td>k3riaoflafifFUSNKXbfTw</td>\n",
       "      <td>via-tribunali-capitol-hill-seattle</td>\n",
       "      <td>Via Tribunali - Capitol Hill</td>\n",
       "      <td>https://s3-media4.fl.yelpcdn.com/bphoto/8nqcG7...</td>\n",
       "      <td>False</td>\n",
       "      <td>https://www.yelp.com/biz/via-tribunali-capitol...</td>\n",
       "      <td>625</td>\n",
       "      <td>[{'alias': 'pizza', 'title': 'Pizza'}, {'alias...</td>\n",
       "      <td>4.0</td>\n",
       "      <td>{'latitude': 47.61386, 'longitude': -122.31986}</td>\n",
       "      <td>[pickup, delivery]</td>\n",
       "      <td>{'address1': '913 E Pike St', 'address2': '', ...</td>\n",
       "      <td>+12063229234</td>\n",
       "      <td>(206) 322-9234</td>\n",
       "      <td>1818.629179</td>\n",
       "      <td>$$</td>\n",
       "    </tr>\n",
       "    <tr>\n",
       "      <th>19</th>\n",
       "      <td>HeJP0ZS0tCCn-X9ezYSz3g</td>\n",
       "      <td>ian-s-pizza-on-the-hill-seattle</td>\n",
       "      <td>Ian’s Pizza on the Hill</td>\n",
       "      <td>https://s3-media2.fl.yelpcdn.com/bphoto/yjORMI...</td>\n",
       "      <td>False</td>\n",
       "      <td>https://www.yelp.com/biz/ian-s-pizza-on-the-hi...</td>\n",
       "      <td>295</td>\n",
       "      <td>[{'alias': 'pizza', 'title': 'Pizza'}, {'alias...</td>\n",
       "      <td>4.0</td>\n",
       "      <td>{'latitude': 47.615894, 'longitude': -122.320476}</td>\n",
       "      <td>[pickup, delivery]</td>\n",
       "      <td>{'address1': '1620 Broadway', 'address2': '', ...</td>\n",
       "      <td>+12066594721</td>\n",
       "      <td>(206) 659-4721</td>\n",
       "      <td>1884.178031</td>\n",
       "      <td>$</td>\n",
       "    </tr>\n",
       "  </tbody>\n",
       "</table>\n",
       "</div>"
      ],
      "text/plain": [
       "                        id                                          alias  \\\n",
       "0   FVbwpNA1uZEGiM02N4XtUg                                 blotto-seattle   \n",
       "1   EwrAoy7XbX8nfemZdDvupA                               cornelly-seattle   \n",
       "2   IrohtoYjnAR_vc6w6CRCxA                                   moto-seattle   \n",
       "3   Wi6LFkjIausYj277ru6pqg                             humble-pie-seattle   \n",
       "4   M9xzvwgK58T0w7wvXedvuQ                        hot-mamas-pizza-seattle   \n",
       "5   et4eWK49x5od4lfqCukG6w                          central-pizza-seattle   \n",
       "6   fxyHWmfzcdjImgQ_UYHoTw                              bar-cotto-seattle   \n",
       "7   t-Z9bvmlgUyDtomGmttrUQ                 guerilla-pizza-kitchen-seattle   \n",
       "8   ugTsEtjvwRhteac_6JcuPw                   italian-family-pizza-seattle   \n",
       "9   -FOAQv22SXtSBs7nptI3UA                 serious-pie-downtown-seattle-2   \n",
       "10  wi-mbKEz4Ha1YYaOB8zHnw                             kōbo-pizza-seattle   \n",
       "11  kVqwgAjEPffEyMJSzpfM_A                     pagliacci-pizza-seattle-26   \n",
       "12  n6BLr6spgjVWqzUwmVx0bg                    johnny-mos-pizzeria-seattle   \n",
       "13  cAFXng3Gr1cBCFkP1VIxng             the-independent-pizzeria-seattle-2   \n",
       "14  GJdmwqqkC0nAQfX1qZM3ew  olympia-pizza-and-spaghetti-house-iii-seattle   \n",
       "15  slbmD92j1JKShUa0InF2nw                               southpaw-seattle   \n",
       "16  Ss_66zV-zhK_57_6MgV93w                           aglio-e-olio-seattle   \n",
       "17  bkA3jfO2ej3pjAUMZWihGg                     pagliacci-pizza-seattle-32   \n",
       "18  k3riaoflafifFUSNKXbfTw             via-tribunali-capitol-hill-seattle   \n",
       "19  HeJP0ZS0tCCn-X9ezYSz3g                ian-s-pizza-on-the-hill-seattle   \n",
       "\n",
       "                                     name  \\\n",
       "0                                  Blotto   \n",
       "1                                Cornelly   \n",
       "2                                    Moto   \n",
       "3                              Humble Pie   \n",
       "4                        Hot Mama's Pizza   \n",
       "5                           Central Pizza   \n",
       "6                               Bar Cotto   \n",
       "7                  Guerilla Pizza Kitchen   \n",
       "8                    Italian Family Pizza   \n",
       "9                    Serious Pie Downtown   \n",
       "10                             Kōbo Pizza   \n",
       "11                        Pagliacci Pizza   \n",
       "12                   Johnny Mo's Pizzeria   \n",
       "13               The Independent Pizzeria   \n",
       "14  Olympia Pizza and Spaghetti House III   \n",
       "15                               Southpaw   \n",
       "16                           Aglio e Olio   \n",
       "17                        Pagliacci Pizza   \n",
       "18           Via Tribunali - Capitol Hill   \n",
       "19                Ian’s Pizza on the Hill   \n",
       "\n",
       "                                            image_url  is_closed  \\\n",
       "0   https://s3-media1.fl.yelpcdn.com/bphoto/O9QKPW...      False   \n",
       "1   https://s3-media4.fl.yelpcdn.com/bphoto/HlYYBT...      False   \n",
       "2   https://s3-media2.fl.yelpcdn.com/bphoto/FBmvjy...      False   \n",
       "3   https://s3-media3.fl.yelpcdn.com/bphoto/1EGE3Z...      False   \n",
       "4   https://s3-media4.fl.yelpcdn.com/bphoto/LEL1qj...      False   \n",
       "5   https://s3-media4.fl.yelpcdn.com/bphoto/AxKjCa...      False   \n",
       "6   https://s3-media3.fl.yelpcdn.com/bphoto/07DoPF...      False   \n",
       "7   https://s3-media4.fl.yelpcdn.com/bphoto/uMrdEj...      False   \n",
       "8   https://s3-media2.fl.yelpcdn.com/bphoto/SgiSrJ...      False   \n",
       "9   https://s3-media1.fl.yelpcdn.com/bphoto/IhsjHU...      False   \n",
       "10  https://s3-media4.fl.yelpcdn.com/bphoto/ga_qIb...      False   \n",
       "11  https://s3-media2.fl.yelpcdn.com/bphoto/MTBcAn...      False   \n",
       "12  https://s3-media4.fl.yelpcdn.com/bphoto/8IAnDP...      False   \n",
       "13  https://s3-media4.fl.yelpcdn.com/bphoto/4gIuis...      False   \n",
       "14  https://s3-media2.fl.yelpcdn.com/bphoto/TLxXE5...      False   \n",
       "15  https://s3-media1.fl.yelpcdn.com/bphoto/3Wxx2r...      False   \n",
       "16  https://s3-media2.fl.yelpcdn.com/bphoto/inrSl1...      False   \n",
       "17  https://s3-media4.fl.yelpcdn.com/bphoto/dZFH37...      False   \n",
       "18  https://s3-media4.fl.yelpcdn.com/bphoto/8nqcG7...      False   \n",
       "19  https://s3-media2.fl.yelpcdn.com/bphoto/yjORMI...      False   \n",
       "\n",
       "                                                  url  review_count  \\\n",
       "0   https://www.yelp.com/biz/blotto-seattle?adjust...            36   \n",
       "1   https://www.yelp.com/biz/cornelly-seattle?adju...            96   \n",
       "2   https://www.yelp.com/biz/moto-seattle?adjust_c...           127   \n",
       "3   https://www.yelp.com/biz/humble-pie-seattle?ad...           356   \n",
       "4   https://www.yelp.com/biz/hot-mamas-pizza-seatt...           950   \n",
       "5   https://www.yelp.com/biz/central-pizza-seattle...           201   \n",
       "6   https://www.yelp.com/biz/bar-cotto-seattle?adj...           336   \n",
       "7   https://www.yelp.com/biz/guerilla-pizza-kitche...             1   \n",
       "8   https://www.yelp.com/biz/italian-family-pizza-...           995   \n",
       "9   https://www.yelp.com/biz/serious-pie-downtown-...          4456   \n",
       "10  https://www.yelp.com/biz/k%C5%8Dbo-pizza-seatt...            21   \n",
       "11  https://www.yelp.com/biz/pagliacci-pizza-seatt...            96   \n",
       "12  https://www.yelp.com/biz/johnny-mos-pizzeria-s...           133   \n",
       "13  https://www.yelp.com/biz/the-independent-pizze...           181   \n",
       "14  https://www.yelp.com/biz/olympia-pizza-and-spa...           291   \n",
       "15  https://www.yelp.com/biz/southpaw-seattle?adju...            77   \n",
       "16  https://www.yelp.com/biz/aglio-e-olio-seattle?...           271   \n",
       "17  https://www.yelp.com/biz/pagliacci-pizza-seatt...            36   \n",
       "18  https://www.yelp.com/biz/via-tribunali-capitol...           625   \n",
       "19  https://www.yelp.com/biz/ian-s-pizza-on-the-hi...           295   \n",
       "\n",
       "                                           categories  rating  \\\n",
       "0              [{'alias': 'pizza', 'title': 'Pizza'}]     4.5   \n",
       "1   [{'alias': 'pizza', 'title': 'Pizza'}, {'alias...     4.5   \n",
       "2   [{'alias': 'pizza', 'title': 'Pizza'}, {'alias...     5.0   \n",
       "3              [{'alias': 'pizza', 'title': 'Pizza'}]     4.0   \n",
       "4              [{'alias': 'pizza', 'title': 'Pizza'}]     4.0   \n",
       "5   [{'alias': 'bars', 'title': 'Bars'}, {'alias':...     4.0   \n",
       "6   [{'alias': 'bars', 'title': 'Bars'}, {'alias':...     4.5   \n",
       "7   [{'alias': 'pizza', 'title': 'Pizza'}, {'alias...     5.0   \n",
       "8   [{'alias': 'pizza', 'title': 'Pizza'}, {'alias...     4.0   \n",
       "9   [{'alias': 'pizza', 'title': 'Pizza'}, {'alias...     4.0   \n",
       "10             [{'alias': 'pizza', 'title': 'Pizza'}]     4.0   \n",
       "11             [{'alias': 'pizza', 'title': 'Pizza'}]     3.5   \n",
       "12             [{'alias': 'pizza', 'title': 'Pizza'}]     4.5   \n",
       "13  [{'alias': 'pizza', 'title': 'Pizza'}, {'alias...     4.0   \n",
       "14  [{'alias': 'pizza', 'title': 'Pizza'}, {'alias...     4.0   \n",
       "15  [{'alias': 'pizza', 'title': 'Pizza'}, {'alias...     4.0   \n",
       "16  [{'alias': 'italian', 'title': 'Italian'}, {'a...     4.5   \n",
       "17             [{'alias': 'pizza', 'title': 'Pizza'}]     4.0   \n",
       "18  [{'alias': 'pizza', 'title': 'Pizza'}, {'alias...     4.0   \n",
       "19  [{'alias': 'pizza', 'title': 'Pizza'}, {'alias...     4.0   \n",
       "\n",
       "                                          coordinates        transactions  \\\n",
       "0     {'latitude': 47.61849, 'longitude': -122.31664}                  []   \n",
       "1   {'latitude': 47.624577, 'longitude': -122.325577}  [pickup, delivery]   \n",
       "2     {'latitude': 47.56207, 'longitude': -122.38509}          [delivery]   \n",
       "3   {'latitude': 47.5976491915013, 'longitude': -1...          [delivery]   \n",
       "4   {'latitude': 47.615379179632, 'longitude': -12...          [delivery]   \n",
       "5   {'latitude': 47.598976, 'longitude': -122.294685}  [pickup, delivery]   \n",
       "6   {'latitude': 47.6146934, 'longitude': -122.312...  [pickup, delivery]   \n",
       "7   {'latitude': 47.608127, 'longitude': -122.302435}                  []   \n",
       "8     {'latitude': 47.60937, 'longitude': -122.32546}  [pickup, delivery]   \n",
       "9   {'latitude': 47.61304626911818, 'longitude': -...  [pickup, delivery]   \n",
       "10     {'latitude': 47.6144, 'longitude': -122.32271}                  []   \n",
       "11  {'latitude': 47.6254949, 'longitude': -122.292...          [delivery]   \n",
       "12    {'latitude': 47.65142, 'longitude': -122.32083}  [pickup, delivery]   \n",
       "13  {'latitude': 47.636044, 'longitude': -122.277377}          [delivery]   \n",
       "14   {'latitude': 47.62383, 'longitude': -122.312445}          [delivery]   \n",
       "15    {'latitude': 47.61118, 'longitude': -122.31654}  [pickup, delivery]   \n",
       "16  {'latitude': 47.62328027309258, 'longitude': -...          [delivery]   \n",
       "17  {'latitude': 47.613922, 'longitude': -122.326006}                  []   \n",
       "18    {'latitude': 47.61386, 'longitude': -122.31986}  [pickup, delivery]   \n",
       "19  {'latitude': 47.615894, 'longitude': -122.320476}  [pickup, delivery]   \n",
       "\n",
       "                                             location         phone  \\\n",
       "0   {'address1': '1830 12th Ave', 'address2': '', ...  +12064031809   \n",
       "1   {'address1': '601 Summit Ave E', 'address2': '...                 \n",
       "2   {'address1': '4526 42nd Ave SW', 'address2': '...  +12064208880   \n",
       "3   {'address1': '525 Rainier Ave S', 'address2': ...  +12063295133   \n",
       "4   {'address1': '700 E Pine St', 'address2': '', ...  +12063226444   \n",
       "5   {'address1': '2901 S Jackson St', 'address2': ...  +12066026333   \n",
       "6   {'address1': '1546 15th Ave', 'address2': '', ...  +12068388081   \n",
       "7   {'address1': '2300 E Cherry St', 'address2': '...                 \n",
       "8   {'address1': '1028 Madison St', 'address2': No...  +12065380040   \n",
       "9   {'address1': '2001 4th Ave', 'address2': None,...  +12068387388   \n",
       "10  {'address1': '714 E Pike St', 'address2': None...  +12536930207   \n",
       "11  {'address1': '3015 E Madison St', 'address2': ...  +12067261717   \n",
       "12  {'address1': '3272 Fuhrman Ave E', 'address2':...  +12068226272   \n",
       "13  {'address1': '4235 E Madison St', 'address2': ...  +12068606110   \n",
       "14  {'address1': '516 15th Ave E', 'address2': '',...  +12063294500   \n",
       "15  {'address1': '926 12th Ave', 'address2': '', '...  +12063235278   \n",
       "16  {'address1': '2743 E Madison St', 'address2': ...                 \n",
       "17  {'address1': '415 E Pike St', 'address2': '', ...  +12067261717   \n",
       "18  {'address1': '913 E Pike St', 'address2': '', ...  +12063229234   \n",
       "19  {'address1': '1620 Broadway', 'address2': '', ...  +12066594721   \n",
       "\n",
       "     display_phone     distance price  \n",
       "0   (206) 403-1809  1686.862176   NaN  \n",
       "1                   2578.701393   NaN  \n",
       "2   (206) 420-8880  8784.075722    $$  \n",
       "3   (206) 329-5133  2166.834011    $$  \n",
       "4   (206) 322-6444  2080.359405     $  \n",
       "5   (206) 602-6333  1571.867438    $$  \n",
       "6   (206) 838-8081  1292.526796    $$  \n",
       "7                    749.173113   NaN  \n",
       "8   (206) 538-0040  2271.307105    $$  \n",
       "9   (206) 838-7388  3348.309276    $$  \n",
       "10  (253) 693-0207  2025.139396   NaN  \n",
       "11  (206) 726-1717  1395.266332    $$  \n",
       "12  (206) 822-6272  4658.301257    $$  \n",
       "13  (206) 860-6110  2897.252844    $$  \n",
       "14  (206) 329-4500  1732.874383    $$  \n",
       "15  (206) 323-5278  1576.874272    $$  \n",
       "16                  1132.743207    $$  \n",
       "17  (206) 726-1717  2274.720678   NaN  \n",
       "18  (206) 322-9234  1818.629179    $$  \n",
       "19  (206) 659-4721  1884.178031     $  "
      ]
     },
     "execution_count": 16,
     "metadata": {},
     "output_type": "execute_result"
    }
   ],
   "source": [
    "pd.DataFrame(results['businesses'])"
   ]
  },
  {
   "cell_type": "code",
   "execution_count": 17,
   "metadata": {},
   "outputs": [
    {
     "data": {
      "text/plain": [
       "855"
      ]
     },
     "execution_count": 17,
     "metadata": {},
     "output_type": "execute_result"
    }
   ],
   "source": [
    "results['total']"
   ]
  },
  {
   "cell_type": "code",
   "execution_count": 18,
   "metadata": {},
   "outputs": [
    {
     "data": {
      "text/plain": [
       "{'center': {'longitude': -122.29568481445312, 'latitude': 47.61309534151991}}"
      ]
     },
     "execution_count": 18,
     "metadata": {},
     "output_type": "execute_result"
    }
   ],
   "source": [
    "results['region']"
   ]
  },
  {
   "cell_type": "code",
   "execution_count": 19,
   "metadata": {},
   "outputs": [
    {
     "data": {
      "text/plain": [
       "20"
      ]
     },
     "execution_count": 19,
     "metadata": {},
     "output_type": "execute_result"
    }
   ],
   "source": [
    "## How many did we get the details for?\n",
    "results_per_page = len(results['businesses'])\n",
    "results_per_page"
   ]
  },
  {
   "cell_type": "markdown",
   "metadata": {},
   "source": [
    "- Calculate how many pages of results needed to cover the total_results"
   ]
  },
  {
   "cell_type": "code",
   "execution_count": 20,
   "metadata": {},
   "outputs": [
    {
     "data": {
      "text/plain": [
       "43"
      ]
     },
     "execution_count": 20,
     "metadata": {},
     "output_type": "execute_result"
    }
   ],
   "source": [
    "# Use math.ceil to round up for the total number of pages of results.\n",
    "import time, math\n",
    "n_pages = math.ceil((results['total'])/ results_per_page)\n",
    "n_pages"
   ]
  },
  {
   "cell_type": "markdown",
   "metadata": {},
   "source": [
    "- Where is the actual data we want to save?"
   ]
  },
  {
   "cell_type": "code",
   "execution_count": 21,
   "metadata": {},
   "outputs": [
    {
     "data": {
      "application/vnd.jupyter.widget-view+json": {
       "model_id": "c37b37a83a584f5186982380a77841d7",
       "version_major": 2,
       "version_minor": 0
      },
      "text/plain": [
       "  0%|          | 0/44 [00:00<?, ?it/s]"
      ]
     },
     "metadata": {},
     "output_type": "display_data"
    },
    {
     "name": "stdout",
     "output_type": "stream",
     "text": [
      "[!] ERROR:  Expecting value: line 1 column 1 (char 0)\n",
      "[!] ERROR:  Expecting value: line 1 column 1 (char 0)\n",
      "[!] ERROR:  Expecting value: line 1 column 1 (char 0)\n",
      "[!] ERROR:  Expecting value: line 1 column 1 (char 0)\n",
      "[!] ERROR:  Expecting value: line 1 column 1 (char 0)\n",
      "[!] ERROR:  Expecting value: line 1 column 1 (char 0)\n",
      "[!] ERROR:  Expecting value: line 1 column 1 (char 0)\n",
      "[!] ERROR:  Expecting value: line 1 column 1 (char 0)\n",
      "[!] ERROR:  Expecting value: line 1 column 1 (char 0)\n",
      "[!] ERROR:  Expecting value: line 1 column 1 (char 0)\n",
      "[!] ERROR:  Expecting value: line 1 column 1 (char 0)\n",
      "[!] ERROR:  Expecting value: line 1 column 1 (char 0)\n",
      "[!] ERROR:  Expecting value: line 1 column 1 (char 0)\n",
      "[!] ERROR:  Expecting value: line 1 column 1 (char 0)\n",
      "[!] ERROR:  Expecting value: line 1 column 1 (char 0)\n",
      "[!] ERROR:  Expecting value: line 1 column 1 (char 0)\n",
      "[!] ERROR:  Expecting value: line 1 column 1 (char 0)\n",
      "[!] ERROR:  Expecting value: line 1 column 1 (char 0)\n",
      "[!] ERROR:  Expecting value: line 1 column 1 (char 0)\n",
      "[!] ERROR:  Expecting value: line 1 column 1 (char 0)\n",
      "[!] ERROR:  Expecting value: line 1 column 1 (char 0)\n",
      "[!] ERROR:  Expecting value: line 1 column 1 (char 0)\n",
      "[!] ERROR:  Expecting value: line 1 column 1 (char 0)\n",
      "[!] ERROR:  Expecting value: line 1 column 1 (char 0)\n",
      "[!] ERROR:  Expecting value: line 1 column 1 (char 0)\n",
      "[!] ERROR:  Expecting value: line 1 column 1 (char 0)\n",
      "[!] ERROR:  Expecting value: line 1 column 1 (char 0)\n",
      "[!] ERROR:  Expecting value: line 1 column 1 (char 0)\n",
      "[!] ERROR:  Expecting value: line 1 column 1 (char 0)\n",
      "[!] ERROR:  Expecting value: line 1 column 1 (char 0)\n",
      "[!] ERROR:  Expecting value: line 1 column 1 (char 0)\n",
      "[!] ERROR:  Expecting value: line 1 column 1 (char 0)\n",
      "[!] ERROR:  Expecting value: line 1 column 1 (char 0)\n",
      "[!] ERROR:  Expecting value: line 1 column 1 (char 0)\n",
      "[!] ERROR:  Expecting value: line 1 column 1 (char 0)\n",
      "[!] ERROR:  Expecting value: line 1 column 1 (char 0)\n",
      "[!] ERROR:  Expecting value: line 1 column 1 (char 0)\n",
      "[!] ERROR:  Expecting value: line 1 column 1 (char 0)\n",
      "[!] ERROR:  Expecting value: line 1 column 1 (char 0)\n",
      "[!] ERROR:  Expecting value: line 1 column 1 (char 0)\n",
      "[!] ERROR:  Expecting value: line 1 column 1 (char 0)\n",
      "[!] ERROR:  Expecting value: line 1 column 1 (char 0)\n",
      "[!] ERROR:  Expecting value: line 1 column 1 (char 0)\n",
      "[!] ERROR:  Expecting value: line 1 column 1 (char 0)\n"
     ]
    }
   ],
   "source": [
    "for i in tqdm_notebook(range(0,n_pages+1)):\n",
    "    ## The block of code we want to TRY to run\n",
    "    try:\n",
    "        time.sleep(.2)\n",
    "\n",
    "        ## Read in results in progress file and check the length\n",
    "        with open(JSON_FILE, 'r') as f:\n",
    "            previous_results = json.load(f)\n",
    "\n",
    "        ## save number of results for to use as offset\n",
    "\n",
    "        n_results = len(previous_results)\n",
    "\n",
    "        ## use n_results as the OFFSET \n",
    "        results = yelp_api.search_query(location=location,term=term,offset=n_results+1)\n",
    "\n",
    "        ## append new results and save to file\n",
    "\n",
    "        previous_results.extend(results['businesses'])\n",
    "\n",
    "        with open (JSON_FILE,'w') as f:\n",
    "            json.dump(previous_results,f)\n",
    "\n",
    "    ## What to do if we get an error/exception.\n",
    "    except Exception as e:\n",
    "        print('[!] ERROR: ',e)\n"
   ]
  },
  {
   "cell_type": "markdown",
   "metadata": {},
   "source": [
    "## Open the Final JSON File with Pandas"
   ]
  },
  {
   "cell_type": "code",
   "execution_count": 22,
   "metadata": {},
   "outputs": [],
   "source": [
    "df = None"
   ]
  },
  {
   "cell_type": "code",
   "execution_count": 23,
   "metadata": {},
   "outputs": [
    {
     "data": {
      "text/plain": [
       "'Data/Seattle-Pizza.csv.gz'"
      ]
     },
     "execution_count": 23,
     "metadata": {},
     "output_type": "execute_result"
    }
   ],
   "source": [
    "## convert the filename to a .csv.gz\n",
    "csv_file = JSON_FILE.replace('.json','.csv.gz')\n",
    "csv_file"
   ]
  },
  {
   "cell_type": "code",
   "execution_count": 24,
   "metadata": {},
   "outputs": [],
   "source": [
    "## Save it as a compressed csv (to save space)\n"
   ]
  },
  {
   "cell_type": "markdown",
   "metadata": {},
   "source": [
    "## Bonus: compare filesize with os module's `os.path.getsize`"
   ]
  },
  {
   "cell_type": "code",
   "execution_count": 25,
   "metadata": {},
   "outputs": [
    {
     "ename": "FileNotFoundError",
     "evalue": "[WinError 2] The system cannot find the file specified: 'Data/Seattle-Pizza.csv.gz'",
     "output_type": "error",
     "traceback": [
      "\u001b[1;31m---------------------------------------------------------------------------\u001b[0m",
      "\u001b[1;31mFileNotFoundError\u001b[0m                         Traceback (most recent call last)",
      "Cell \u001b[1;32mIn [25], line 2\u001b[0m\n\u001b[0;32m      1\u001b[0m size_json \u001b[38;5;241m=\u001b[39m os\u001b[38;5;241m.\u001b[39mpath\u001b[38;5;241m.\u001b[39mgetsize(JSON_FILE)\n\u001b[1;32m----> 2\u001b[0m size_csv_gz \u001b[38;5;241m=\u001b[39m \u001b[43mos\u001b[49m\u001b[38;5;241;43m.\u001b[39;49m\u001b[43mpath\u001b[49m\u001b[38;5;241;43m.\u001b[39;49m\u001b[43mgetsize\u001b[49m\u001b[43m(\u001b[49m\u001b[43mJSON_FILE\u001b[49m\u001b[38;5;241;43m.\u001b[39;49m\u001b[43mreplace\u001b[49m\u001b[43m(\u001b[49m\u001b[38;5;124;43m'\u001b[39;49m\u001b[38;5;124;43m.json\u001b[39;49m\u001b[38;5;124;43m'\u001b[39;49m\u001b[43m,\u001b[49m\u001b[38;5;124;43m'\u001b[39;49m\u001b[38;5;124;43m.csv.gz\u001b[39;49m\u001b[38;5;124;43m'\u001b[39;49m\u001b[43m)\u001b[49m\u001b[43m)\u001b[49m\n\u001b[0;32m      4\u001b[0m \u001b[38;5;28mprint\u001b[39m(\u001b[38;5;124mf\u001b[39m\u001b[38;5;124m'\u001b[39m\u001b[38;5;124mJSON FILE: \u001b[39m\u001b[38;5;132;01m{\u001b[39;00msize_json\u001b[38;5;132;01m:\u001b[39;00m\u001b[38;5;124m,\u001b[39m\u001b[38;5;132;01m}\u001b[39;00m\u001b[38;5;124m Bytes\u001b[39m\u001b[38;5;124m'\u001b[39m)\n\u001b[0;32m      5\u001b[0m \u001b[38;5;28mprint\u001b[39m(\u001b[38;5;124mf\u001b[39m\u001b[38;5;124m'\u001b[39m\u001b[38;5;124mCSV.GZ FILE: \u001b[39m\u001b[38;5;132;01m{\u001b[39;00msize_csv_gz\u001b[38;5;132;01m:\u001b[39;00m\u001b[38;5;124m,\u001b[39m\u001b[38;5;132;01m}\u001b[39;00m\u001b[38;5;124m Bytes\u001b[39m\u001b[38;5;124m'\u001b[39m)\n",
      "File \u001b[1;32m~\\Anaconda3\\envs\\dojo-env\\lib\\genericpath.py:50\u001b[0m, in \u001b[0;36mgetsize\u001b[1;34m(filename)\u001b[0m\n\u001b[0;32m     48\u001b[0m \u001b[38;5;28;01mdef\u001b[39;00m \u001b[38;5;21mgetsize\u001b[39m(filename):\n\u001b[0;32m     49\u001b[0m     \u001b[38;5;124;03m\"\"\"Return the size of a file, reported by os.stat().\"\"\"\u001b[39;00m\n\u001b[1;32m---> 50\u001b[0m     \u001b[38;5;28;01mreturn\u001b[39;00m \u001b[43mos\u001b[49m\u001b[38;5;241;43m.\u001b[39;49m\u001b[43mstat\u001b[49m\u001b[43m(\u001b[49m\u001b[43mfilename\u001b[49m\u001b[43m)\u001b[49m\u001b[38;5;241m.\u001b[39mst_size\n",
      "\u001b[1;31mFileNotFoundError\u001b[0m: [WinError 2] The system cannot find the file specified: 'Data/Seattle-Pizza.csv.gz'"
     ]
    }
   ],
   "source": [
    "size_json = os.path.getsize(JSON_FILE)\n",
    "size_csv_gz = os.path.getsize(JSON_FILE.replace('.json','.csv.gz'))\n",
    "\n",
    "print(f'JSON FILE: {size_json:,} Bytes')\n",
    "print(f'CSV.GZ FILE: {size_csv_gz:,} Bytes')\n",
    "\n",
    "print(f'the csv.gz is {size_json/size_csv_gz} times smaller!')"
   ]
  },
  {
   "cell_type": "markdown",
   "metadata": {},
   "source": [
    "## Next Class: Processing the Results and Mapping "
   ]
  }
 ],
 "metadata": {
  "colab": {
   "collapsed_sections": [],
   "name": "Test Yelp API Package.ipynb",
   "provenance": []
  },
  "kernelspec": {
   "display_name": "Python (dojo-env)",
   "language": "python",
   "name": "dojo-env"
  },
  "language_info": {
   "codemirror_mode": {
    "name": "ipython",
    "version": 3
   },
   "file_extension": ".py",
   "mimetype": "text/x-python",
   "name": "python",
   "nbconvert_exporter": "python",
   "pygments_lexer": "ipython3",
   "version": "3.8.13"
  },
  "toc": {
   "base_numbering": 1,
   "nav_menu": {},
   "number_sections": false,
   "sideBar": true,
   "skip_h1_title": false,
   "title_cell": "Table of Contents",
   "title_sidebar": "Contents",
   "toc_cell": false,
   "toc_position": {},
   "toc_section_display": true,
   "toc_window_display": true
  }
 },
 "nbformat": 4,
 "nbformat_minor": 1
}
